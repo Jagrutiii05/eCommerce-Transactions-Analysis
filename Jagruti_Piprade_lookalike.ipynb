{
 "cells": [
  {
   "cell_type": "markdown",
   "id": "c2bae38d-fc77-4e6f-b5ac-a5e58dae989f",
   "metadata": {},
   "source": [
    "### Import necessary Libraries"
   ]
  },
  {
   "cell_type": "code",
   "execution_count": 1,
   "id": "4f7a1a13-4af5-40d5-8e79-4bc8064f3244",
   "metadata": {},
   "outputs": [],
   "source": [
    "import pandas as pd\n",
    "from sklearn.metrics.pairwise import cosine_similarity\n",
    "from sklearn.preprocessing import StandardScaler\n",
    "from datetime import datetime"
   ]
  },
  {
   "cell_type": "markdown",
   "id": "b62eda29-2483-4848-bc62-473c496265a7",
   "metadata": {},
   "source": [
    "### Load and Pre process data"
   ]
  },
  {
   "cell_type": "code",
   "execution_count": 2,
   "id": "9037edbb-c325-4b80-a2e7-8ca409d77a6c",
   "metadata": {},
   "outputs": [],
   "source": [
    "# Load the data\n",
    "customers = pd.read_csv('Customers.csv')\n",
    "products = pd.read_csv('Products.csv')\n",
    "transactions = pd.read_csv('Transactions.csv')"
   ]
  },
  {
   "cell_type": "code",
   "execution_count": 3,
   "id": "2bb82665-54d0-438c-9d38-c7b9188f5b34",
   "metadata": {},
   "outputs": [
    {
     "name": "stdout",
     "output_type": "stream",
     "text": [
      "<class 'pandas.core.frame.DataFrame'>\n",
      "RangeIndex: 200 entries, 0 to 199\n",
      "Data columns (total 4 columns):\n",
      " #   Column        Non-Null Count  Dtype \n",
      "---  ------        --------------  ----- \n",
      " 0   CustomerID    200 non-null    object\n",
      " 1   CustomerName  200 non-null    object\n",
      " 2   Region        200 non-null    object\n",
      " 3   SignupDate    200 non-null    object\n",
      "dtypes: object(4)\n",
      "memory usage: 6.4+ KB\n",
      "None\n",
      "<class 'pandas.core.frame.DataFrame'>\n",
      "RangeIndex: 100 entries, 0 to 99\n",
      "Data columns (total 4 columns):\n",
      " #   Column       Non-Null Count  Dtype  \n",
      "---  ------       --------------  -----  \n",
      " 0   ProductID    100 non-null    object \n",
      " 1   ProductName  100 non-null    object \n",
      " 2   Category     100 non-null    object \n",
      " 3   Price        100 non-null    float64\n",
      "dtypes: float64(1), object(3)\n",
      "memory usage: 3.3+ KB\n",
      "None\n",
      "<class 'pandas.core.frame.DataFrame'>\n",
      "RangeIndex: 1000 entries, 0 to 999\n",
      "Data columns (total 7 columns):\n",
      " #   Column           Non-Null Count  Dtype  \n",
      "---  ------           --------------  -----  \n",
      " 0   TransactionID    1000 non-null   object \n",
      " 1   CustomerID       1000 non-null   object \n",
      " 2   ProductID        1000 non-null   object \n",
      " 3   TransactionDate  1000 non-null   object \n",
      " 4   Quantity         1000 non-null   int64  \n",
      " 5   TotalValue       1000 non-null   float64\n",
      " 6   Price            1000 non-null   float64\n",
      "dtypes: float64(2), int64(1), object(4)\n",
      "memory usage: 54.8+ KB\n",
      "None\n"
     ]
    }
   ],
   "source": [
    "print(customers.info())\n",
    "print(products.info())\n",
    "print(transactions.info())"
   ]
  },
  {
   "cell_type": "code",
   "execution_count": 4,
   "id": "bcecef95-7271-42bd-9eb4-f370d90d2327",
   "metadata": {},
   "outputs": [
    {
     "name": "stdout",
     "output_type": "stream",
     "text": [
      "CustomerID      0\n",
      "CustomerName    0\n",
      "Region          0\n",
      "SignupDate      0\n",
      "dtype: int64\n",
      "ProductID      0\n",
      "ProductName    0\n",
      "Category       0\n",
      "Price          0\n",
      "dtype: int64\n",
      "TransactionID      0\n",
      "CustomerID         0\n",
      "ProductID          0\n",
      "TransactionDate    0\n",
      "Quantity           0\n",
      "TotalValue         0\n",
      "Price              0\n",
      "dtype: int64\n"
     ]
    }
   ],
   "source": [
    "print(customers.isnull().sum())\n",
    "print(products.isnull().sum())\n",
    "print(transactions.isnull().sum())"
   ]
  },
  {
   "cell_type": "code",
   "execution_count": 5,
   "id": "22b92928-0a9c-494c-8128-be4624f57acb",
   "metadata": {},
   "outputs": [],
   "source": [
    "customers['SignupDate'] = pd.to_datetime(customers['SignupDate'])\n",
    "transactions['TransactionDate'] = pd.to_datetime(transactions['TransactionDate'])"
   ]
  },
  {
   "cell_type": "code",
   "execution_count": 6,
   "id": "52bada10-f346-4ef8-8c2f-4dcb26d16303",
   "metadata": {},
   "outputs": [],
   "source": [
    "merged_data = pd.merge(transactions, customers, on='CustomerID')\n",
    "merged_data = pd.merge(merged_data, products, on='ProductID')"
   ]
  },
  {
   "cell_type": "code",
   "execution_count": 7,
   "id": "e55e8fda-c479-467f-b054-f0438ad9a31b",
   "metadata": {},
   "outputs": [
    {
     "data": {
      "text/plain": [
       "(['TransactionID',\n",
       "  'CustomerID',\n",
       "  'ProductID',\n",
       "  'TransactionDate',\n",
       "  'Quantity',\n",
       "  'TotalValue',\n",
       "  'Price_x',\n",
       "  'CustomerName',\n",
       "  'Region',\n",
       "  'SignupDate',\n",
       "  'ProductName',\n",
       "  'Category',\n",
       "  'Price_y'],\n",
       " (1000, 13))"
      ]
     },
     "execution_count": 7,
     "metadata": {},
     "output_type": "execute_result"
    }
   ],
   "source": [
    "merged_data.columns.tolist(), merged_data.shape"
   ]
  },
  {
   "cell_type": "markdown",
   "id": "c3aad193-f721-4035-a54c-5b3c16ef1c3f",
   "metadata": {},
   "source": [
    "### Feature Engineering\n",
    "Develop features to represent customer profiles and transaction history"
   ]
  },
  {
   "cell_type": "code",
   "execution_count": 8,
   "id": "4d56748a-3b25-4d6f-8503-c2af44b47a84",
   "metadata": {},
   "outputs": [],
   "source": [
    "customer_features = merged_data.groupby('CustomerID').agg({\n",
    "    'TotalValue': 'sum',\n",
    "    'TransactionID': 'count',\n",
    "    'ProductID': 'nunique',\n",
    "    'Price_x': 'mean',\n",
    "    'SignupDate': lambda x: (pd.Timestamp.now() - x.min()).days\n",
    "}).rename(columns={\n",
    "    'TotalValue': 'TotalSpending',\n",
    "    'TransactionID': 'TotalTransactions',\n",
    "    'ProductID': 'ProductDiversity',\n",
    "    'Price_x': 'AvgPrice',\n",
    "    'SignupDate': 'SignupRecency'\n",
    "}).reset_index()\n",
    "\n",
    "# Normalize features\n",
    "scaler = StandardScaler()\n",
    "feature_matrix = scaler.fit_transform(customer_features.drop(columns=['CustomerID']))\n",
    "customer_ids = customer_features['CustomerID'].values"
   ]
  },
  {
   "cell_type": "markdown",
   "id": "38a97ce2-df5b-4bb1-8fb3-4132a6400664",
   "metadata": {},
   "source": [
    "### Compute Similarity"
   ]
  },
  {
   "cell_type": "code",
   "execution_count": 9,
   "id": "897122d0-d592-4bfa-8bcd-6aa1f5e577f3",
   "metadata": {},
   "outputs": [
    {
     "name": "stdout",
     "output_type": "stream",
     "text": [
      "Lookalike.csv generated!\n"
     ]
    }
   ],
   "source": [
    "similarity_matrix = cosine_similarity(feature_matrix)\n",
    "\n",
    "# Get top 3 lookalikes\n",
    "lookalikes = {}\n",
    "for idx, customer_id in enumerate(customer_ids[:20]):  # First 20 customers\n",
    "    similarity_scores = list(enumerate(similarity_matrix[idx]))\n",
    "    similarity_scores = sorted(similarity_scores, key=lambda x: x[1], reverse=True)\n",
    "    top_3 = [(customer_ids[i], round(score, 2)) for i, score in similarity_scores[1:4]]\n",
    "    lookalikes[customer_id] = top_3\n",
    "\n",
    "# Save Lookalike.csv\n",
    "output = []\n",
    "for cust_id, similar_customers in lookalikes.items():\n",
    "    row = [cust_id]\n",
    "    for sim_cust, score in similar_customers:\n",
    "        row.extend([sim_cust, score])\n",
    "    output.append(row)\n",
    "\n",
    "lookalike_df = pd.DataFrame(output, columns=['cust_id', \n",
    "                                             'similar_cust_id_1', 'score_1', \n",
    "                                             'similar_cust_id_2', 'score_2', \n",
    "                                             'similar_cust_id_3', 'score_3'])\n",
    "lookalike_df.to_csv(\"Lookalike.csv\", index=False)\n",
    "\n",
    "print(\"Lookalike.csv generated!\")"
   ]
  }
 ],
 "metadata": {
  "kernelspec": {
   "display_name": "Python 3 (ipykernel)",
   "language": "python",
   "name": "python3"
  },
  "language_info": {
   "codemirror_mode": {
    "name": "ipython",
    "version": 3
   },
   "file_extension": ".py",
   "mimetype": "text/x-python",
   "name": "python",
   "nbconvert_exporter": "python",
   "pygments_lexer": "ipython3",
   "version": "3.12.3"
  }
 },
 "nbformat": 4,
 "nbformat_minor": 5
}
